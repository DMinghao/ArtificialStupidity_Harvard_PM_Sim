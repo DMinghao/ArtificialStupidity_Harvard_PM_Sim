{
 "metadata": {
  "language_info": {
   "codemirror_mode": {
    "name": "ipython",
    "version": 3
   },
   "file_extension": ".py",
   "mimetype": "text/x-python",
   "name": "python",
   "nbconvert_exporter": "python",
   "pygments_lexer": "ipython3",
   "version": "3.8.5-final"
  },
  "orig_nbformat": 2,
  "kernelspec": {
   "name": "python38564bite4ca90cc203d4c56a5d8a0fe8e665971",
   "display_name": "Python 3.8.5 64-bit"
  }
 },
 "nbformat": 4,
 "nbformat_minor": 2,
 "cells": [
  {
   "cell_type": "code",
   "execution_count": 1,
   "metadata": {},
   "outputs": [
    {
     "output_type": "stream",
     "name": "stdout",
     "text": [
      "2.3.1\n"
     ]
    }
   ],
   "source": [
    "import numpy as np\n",
    "import random as rng\n",
    "import pandas as pd\n",
    "from datetime import datetime\n",
    "import tensorflow as tf\n",
    "from tensorflow import keras\n",
    "from tqdm import tqdm, trange\n",
    "\n",
    "rng.seed(datetime.now()) \n",
    "np.set_printoptions(precision=3, suppress=True)\n",
    "print(tf.__version__)"
   ]
  },
  {
   "cell_type": "code",
   "execution_count": 2,
   "metadata": {},
   "outputs": [],
   "source": [
    "reloaded = tf.keras.models.load_model('dnn_model')"
   ]
  },
  {
   "cell_type": "code",
   "execution_count": 3,
   "metadata": {},
   "outputs": [],
   "source": [
    "RUN_COUNT = 1000\n",
    "topInput = []\n",
    "topResult = 0"
   ]
  },
  {
   "cell_type": "code",
   "execution_count": 4,
   "metadata": {},
   "outputs": [],
   "source": [
    "def getInput(processed = True, full = False):\n",
    "    level = [0,0,0,0]\n",
    "    l = rng.randrange(0,4)\n",
    "    outsource = [0,0,0,0]\n",
    "    o = rng.randrange(0,4)\n",
    "    if full: \n",
    "        level[l] = 1\n",
    "        outsource[o] = 1\n",
    "\n",
    "    weeks = rng.randrange(1,26)\n",
    "    size = rng.randrange(1,13)\n",
    "\n",
    "    skill =[0,0,0,0]\n",
    "    s = rng.randrange(0,4)\n",
    "    skill[s] = 1\n",
    "\n",
    "    coach = rng.randrange(1,4)\n",
    "    standup = rng.randrange(5,30,5)\n",
    "    review = rng.randrange(1,4)\n",
    "\n",
    "    overtime = [0,0,0]\n",
    "    ov = rng.randrange(0,2)\n",
    "    overtime[ov] = 1\n",
    "\n",
    "    prototype = rng.randrange(0,26)\n",
    "    while prototype > weeks-1: prototype = rng.randrange(0,26)\n",
    "    if processed: \n",
    "        if not full: return [weeks, size, *skill, coach, standup, review, *overtime, prototype]\n",
    "        else: [*level, weeks, size, *skill, *outsource, coach, standup, review, *overtime, prototype]\n",
    "    else:  \n",
    "        if not full: return [weeks, size, s, coach, standup, review, ov, prototype]\n",
    "        else: [l, weeks, size, s, o, coach, standup, review, ov, prototype]"
   ]
  },
  {
   "cell_type": "code",
   "execution_count": 5,
   "metadata": {},
   "outputs": [
    {
     "output_type": "stream",
     "name": "stderr",
     "text": [
      "100%|██████████| 1000/1000 [00:37<00:00, 26.75it/s, Top_Input=[array([ 1, 12,  0,  0,  1,  0,  2, 20,  1,  1,  0,  0,  0])], Top_Result=1.01e+3]\n"
     ]
    }
   ],
   "source": [
    "Xnew = np.array([getInput()])\n",
    "Ynew = reloaded.predict(Xnew)\n",
    "topInput = [*Xnew]\n",
    "topResult = Ynew[0][0]\n",
    "\n",
    "t = trange(RUN_COUNT)\n",
    "for x in t: \n",
    "    t.set_postfix(Top_Result=topResult, Top_Input=topInput)\n",
    "    Xnew = np.array([getInput()])\n",
    "    Ynew = reloaded.predict(Xnew)\n",
    "    if Ynew[0][0] > topResult: \n",
    "        topResult = Ynew[0][0]\n",
    "        topInput = [*Xnew]"
   ]
  },
  {
   "cell_type": "code",
   "execution_count": 6,
   "metadata": {},
   "outputs": [
    {
     "output_type": "stream",
     "name": "stdout",
     "text": [
      "[array([ 1, 12,  0,  0,  1,  0,  2, 20,  1,  1,  0,  0,  0])]\n1011.3965\n"
     ]
    }
   ],
   "source": [
    "print(topInput)\n",
    "print(topResult)"
   ]
  },
  {
   "cell_type": "code",
   "execution_count": null,
   "metadata": {},
   "outputs": [],
   "source": []
  }
 ]
}